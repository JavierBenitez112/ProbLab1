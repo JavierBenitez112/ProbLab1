{
 "cells": [
  {
   "cell_type": "markdown",
   "metadata": {},
   "source": [
    "1. Una empresa tiene un grupo de 8 empleados Ana, Bruno, Carlos, Dina, Eli, Frank,\n",
    "Gaby y Hugo, de los cuales necesita formar equipos de 3 personas para un proyecto.\n",
    "a. ¿Cuántos equipos diferentes de 3 personas pueden formarse? ¿En cuántos de éstos\n",
    "está Ana?\n",
    "b. ¿Cuántos equipos diferentes de 4 personas pueden formarse? ¿En cuántos de éstos\n",
    "no está Frank?"
   ]
  },
  {
   "cell_type": "code",
   "execution_count": null,
   "metadata": {},
   "outputs": [],
   "source": []
  },
  {
   "cell_type": "markdown",
   "metadata": {},
   "source": [
    "2.\n",
    "a. ¿Cuántas palabras diferentes se pueden formar usando todas las letras de la pala-\n",
    "bra SEERESS?\n",
    "b. ¿Cuántas de estas palabras comienzan con S y terminan con R?\n",
    "c. ¿Cuántas palabras diferentes se pueden formar usando cinco o más letras de la\n",
    "palabra SEERESS?"
   ]
  },
  {
   "cell_type": "code",
   "execution_count": null,
   "metadata": {},
   "outputs": [],
   "source": []
  },
  {
   "cell_type": "markdown",
   "metadata": {},
   "source": [
    "3. ¿Cuántos números entre 1 y 1,000,000 son primos?"
   ]
  },
  {
   "cell_type": "code",
   "execution_count": null,
   "metadata": {},
   "outputs": [],
   "source": [
    "\n",
    "crib = [2,3,5,7,11,13,17,19,23,29,31,37,41,43,47,53,59,61,67,71,73,79,83,89,97]\n",
    "\n",
    "def is_prime(n):\n",
    "    if n < 2:\n",
    "        return False\n",
    "    for i in range(2, int(n**0.5) + 1):\n",
    "        if n % i == 0:\n",
    "            return False\n",
    "    return True\n",
    "\n",
    "answer = 0\n",
    "# Numbers from 1 to 1,000,000\n",
    "for i in range(1, 1000000):\n",
    "    if is_prime(i):\n",
    "        answer += 1\n",
    "\n",
    "print(f\"La cantidad de numeros primos es {answer} \")\n"
   ]
  },
  {
   "cell_type": "markdown",
   "metadata": {},
   "source": [
    "4.\n",
    "a. ¿Cuántos números decimales de 4 dígitos se pueden formar usando los dígitos del\n",
    "0 al 9?\n",
    "b. ¿Cuántos tienen uno o más dígitos repetidos? Ej.: 2324, 5255, 6767, etc.\n",
    "c. ¿Cuántos tienen los 4 dígitos repetidos? Ej.: 3333.\n",
    "d. ¿Cuántos tienen dos dígitos (diferentes) repetidos dos veces cada uno? Ej.: 2424.\n",
    "e. ¿Cuántos de estos repiten un dígito dos veces y los otros no se repiten? Ej.: 3137.\n",
    "f. ¿Cuántos de estos repiten un dígito tres veces y el otro no se repite? Ej.: 9199.\n"
   ]
  },
  {
   "cell_type": "code",
   "execution_count": null,
   "metadata": {},
   "outputs": [],
   "source": [
    "import itertools as it\n",
    "\n",
    "A = \"0123456789\"\n",
    "S = set(it.product(A, repeat=4))  \n",
    "S = [k for k in S if k[0] != '0']  \n",
    "ansa = len(S)\n",
    "print(\"a)\")\n",
    "print(f\"La cantidad de palabras es {ansa}.\\n\")\n",
    "\n",
    "\n",
    "ansb = sum(1 for k in S if len(set(k)) < 4) \n",
    "print(\"b)\")\n",
    "print(f\"Los números que tienen uno o más dígitos repetidos son {ansb}.\\n\")\n",
    "\n",
    "\n",
    "ansc = sum(1 for k in S if len(set(k)) == 1)  \n",
    "print(\"c)\")\n",
    "print(f\"Los números que tienen todos los dígitos repetidos son {ansc}.\\n\")\n",
    "\n",
    "\n",
    "ansd = sum(1 for k in S if len(set(k)) == 2 and sorted([k.count(d) for d in set(k)]) == [2, 2]) \n",
    "print(\"d)\")\n",
    "print(f\"Los números que tienen exactamente dos dígitos repetidos son {ansd}.\\n\")\n",
    "\n",
    "\n",
    "anse = sum(1 for k in S if len(set(k)) == 3 and sorted([k.count(d) for d in set(k)]) == [1, 1, 2]) \n",
    "print(\"e)\")\n",
    "print(f\"Los números que tienen exactamente un par repetido son {anse}.\\n\")\n",
    "\n",
    "\n",
    "ansf = sum(1 for k in S if len(set(k)) == 2 and sorted([k.count(d) for d in set(k)]) == [1, 3]) \n",
    "print(\"f)\")\n",
    "print(f\"Los números que se repiten 3 veces son {ansf}.\\n\")\n"
   ]
  }
 ],
 "metadata": {
  "language_info": {
   "name": "python"
  }
 },
 "nbformat": 4,
 "nbformat_minor": 2
}
